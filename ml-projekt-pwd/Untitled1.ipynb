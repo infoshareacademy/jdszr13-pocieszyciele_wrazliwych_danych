{
 "cells": [
  {
   "cell_type": "code",
   "execution_count": 1,
   "id": "9fa00b5b",
   "metadata": {},
   "outputs": [],
   "source": [
    "import pandas as pd\n",
    "import numpy as np\n",
    "import matplotlib.pyplot as plt\n",
    "import seaborn as sns\n",
    "from datetime import datetime"
   ]
  },
  {
   "cell_type": "code",
   "execution_count": 7,
   "id": "8aa1dc2a",
   "metadata": {},
   "outputs": [],
   "source": [
    "pre_df = pd.read_csv('dane/AviationData.csv', encoding='ISO-8859-1', dtype={6: str, 7: str, 28: str})\n",
    "df = pre_df[pre_df['Country'] == 'United States']"
   ]
  },
  {
   "cell_type": "code",
   "execution_count": 8,
   "id": "12a7776d",
   "metadata": {},
   "outputs": [
    {
     "name": "stderr",
     "output_type": "stream",
     "text": [
      "C:\\Users\\User\\AppData\\Local\\Temp\\ipykernel_13020\\3636417966.py:1: SettingWithCopyWarning: \n",
      "A value is trying to be set on a copy of a slice from a DataFrame\n",
      "\n",
      "See the caveats in the documentation: https://pandas.pydata.org/pandas-docs/stable/user_guide/indexing.html#returning-a-view-versus-a-copy\n",
      "  df.drop(columns=[\"Latitude\", \"Registration.Number\", \"Make\",\"Longitude\", \"Schedule\", \"FAR.Description\", \"Air.carrier\", \"Airport.Code\", \"Airport.Name\", \"Aircraft.Category\", \"Event.Id\", \"Accident.Number\",\"Publication.Date\",\"Report.Status\"], inplace=True)\n"
     ]
    }
   ],
   "source": [
    "df.drop(columns=[\"Latitude\", \"Registration.Number\", \"Make\",\"Longitude\", \"Schedule\", \"FAR.Description\", \"Air.carrier\", \"Airport.Code\", \"Airport.Name\", \"Aircraft.Category\", \"Event.Id\", \"Accident.Number\",\"Publication.Date\",\"Report.Status\"], inplace=True)"
   ]
  },
  {
   "cell_type": "code",
   "execution_count": 9,
   "id": "361cc53c",
   "metadata": {},
   "outputs": [
    {
     "name": "stdout",
     "output_type": "stream",
     "text": [
      "0 Investigation.Type\n",
      "1 Event.Date\n",
      "2 Location\n",
      "3 Country\n",
      "4 Injury.Severity\n",
      "5 Aircraft.damage\n",
      "6 Model\n",
      "7 Amateur.Built\n",
      "8 Number.of.Engines\n",
      "9 Engine.Type\n",
      "10 Purpose.of.flight\n",
      "11 Total.Fatal.Injuries\n",
      "12 Total.Serious.Injuries\n",
      "13 Total.Minor.Injuries\n",
      "14 Total.Uninjured\n",
      "15 Weather.Condition\n",
      "16 Broad.phase.of.flight\n"
     ]
    }
   ],
   "source": [
    "for k in df.keys():\n",
    "    tmpNum = df.columns.get_loc(k)\n",
    "    print(tmpNum,k)"
   ]
  },
  {
   "cell_type": "code",
   "execution_count": 21,
   "id": "7b26589e",
   "metadata": {},
   "outputs": [
    {
     "name": "stderr",
     "output_type": "stream",
     "text": [
      "C:\\Users\\User\\AppData\\Local\\Temp\\ipykernel_13020\\3421240661.py:1: UserWarning: Boolean Series key will be reindexed to match DataFrame index.\n",
      "  good_weather_acc = df.loc[df['Weather.Condition'] == 'VMC'][df['Investigation.Type'] == \"Accident\"].count()\n",
      "C:\\Users\\User\\AppData\\Local\\Temp\\ipykernel_13020\\3421240661.py:2: UserWarning: Boolean Series key will be reindexed to match DataFrame index.\n",
      "  good_weather_inc = df.loc[df['Weather.Condition'] == 'VMC'][df['Investigation.Type'] == \"Incident\"].count()\n",
      "C:\\Users\\User\\AppData\\Local\\Temp\\ipykernel_13020\\3421240661.py:3: UserWarning: Boolean Series key will be reindexed to match DataFrame index.\n",
      "  bad_weather_acc = df.loc[df['Weather.Condition'] == 'IMC'][df['Investigation.Type'] == \"Accident\"].count()\n",
      "C:\\Users\\User\\AppData\\Local\\Temp\\ipykernel_13020\\3421240661.py:4: UserWarning: Boolean Series key will be reindexed to match DataFrame index.\n",
      "  bad_weather_inc = df.loc[df['Weather.Condition'] == 'IMC'][df['Investigation.Type'] == \"Incident\"].count()\n"
     ]
    },
    {
     "data": {
      "text/plain": [
       "Good Weather Acc    73342\n",
       "Good Weather Inc     1975\n",
       "Bad Weather Acc      5390\n",
       "Bad Weather Inc       228\n",
       "Name: Investigation.Type, dtype: int64"
      ]
     },
     "execution_count": 21,
     "metadata": {},
     "output_type": "execute_result"
    }
   ],
   "source": [
    "good_weather_acc = df.loc[df['Weather.Condition'] == 'VMC'][df['Investigation.Type'] == \"Accident\"].count()\n",
    "good_weather_inc = df.loc[df['Weather.Condition'] == 'VMC'][df['Investigation.Type'] == \"Incident\"].count()\n",
    "bad_weather_acc = df.loc[df['Weather.Condition'] == 'IMC'][df['Investigation.Type'] == \"Accident\"].count()\n",
    "bad_weather_inc = df.loc[df['Weather.Condition'] == 'IMC'][df['Investigation.Type'] == \"Incident\"].count()\n",
    "\n",
    "var_gwa = pd.Series(good_weather_acc, name = 'Good Weather Acc')\n",
    "var_gwi = pd.Series(good_weather_inc, name = 'Good Weather Inc')\n",
    "var_bwa = pd.Series(bad_weather_acc, name = 'Bad Weather Acc')\n",
    "var_bwi = pd.Series(bad_weather_inc, name = 'Bad Weather Inc')\n",
    "\n",
    "\n",
    "\n",
    "#df1 = pd.DataFrame({'Good Weather Acc': var_gwa,\n",
    " #                  'Good Weather Inc': var_gwi,\n",
    "  #                 'Bad Weather Acc': var_bwa,\n",
    "   #                'Bad Weather Inc' : var_bwi})\n",
    "\n",
    "#df1 = pd.DataFrame(df, df['Event.Date'])\n",
    "\n",
    "investigation_type = df1.iloc[0]\n",
    "investigation_type"
   ]
  },
  {
   "cell_type": "code",
   "execution_count": 12,
   "id": "1ea6a32e",
   "metadata": {
    "scrolled": true
   },
   "outputs": [
    {
     "data": {
      "text/plain": [
       "0        1948-10-24\n",
       "1        1962-07-19\n",
       "2        1974-08-30\n",
       "3        1977-06-19\n",
       "4        1979-08-02\n",
       "            ...    \n",
       "88884    2022-12-26\n",
       "88885    2022-12-26\n",
       "88886    2022-12-26\n",
       "88887    2022-12-26\n",
       "88888    2022-12-29\n",
       "Name: Event.Date, Length: 82248, dtype: object"
      ]
     },
     "execution_count": 12,
     "metadata": {},
     "output_type": "execute_result"
    }
   ],
   "source": [
    "df['Event.Date']"
   ]
  },
  {
   "cell_type": "code",
   "execution_count": 13,
   "id": "e4f36c90",
   "metadata": {
    "scrolled": true
   },
   "outputs": [
    {
     "name": "stderr",
     "output_type": "stream",
     "text": [
      "C:\\Users\\User\\AppData\\Local\\Temp\\ipykernel_13020\\1540095821.py:1: SettingWithCopyWarning: \n",
      "A value is trying to be set on a copy of a slice from a DataFrame.\n",
      "Try using .loc[row_indexer,col_indexer] = value instead\n",
      "\n",
      "See the caveats in the documentation: https://pandas.pydata.org/pandas-docs/stable/user_guide/indexing.html#returning-a-view-versus-a-copy\n",
      "  df['Event.Date'] = pd.to_datetime(df['Event.Date'])\n"
     ]
    }
   ],
   "source": [
    "df['Event.Date'] = pd.to_datetime(df['Event.Date'])"
   ]
  },
  {
   "cell_type": "code",
   "execution_count": 14,
   "id": "5d9c1078",
   "metadata": {
    "scrolled": true
   },
   "outputs": [
    {
     "name": "stderr",
     "output_type": "stream",
     "text": [
      "C:\\Users\\User\\AppData\\Local\\Temp\\ipykernel_13020\\3156314536.py:1: SettingWithCopyWarning: \n",
      "A value is trying to be set on a copy of a slice from a DataFrame.\n",
      "Try using .loc[row_indexer,col_indexer] = value instead\n",
      "\n",
      "See the caveats in the documentation: https://pandas.pydata.org/pandas-docs/stable/user_guide/indexing.html#returning-a-view-versus-a-copy\n",
      "  df['year'] = df['Event.Date'].dt.year\n"
     ]
    }
   ],
   "source": [
    "df['year'] = df['Event.Date'].dt.year"
   ]
  },
  {
   "cell_type": "code",
   "execution_count": 23,
   "id": "dbf927b7",
   "metadata": {},
   "outputs": [],
   "source": [
    "grouped = df.groupby(['year','Investigation.Type'])"
   ]
  },
  {
   "cell_type": "code",
   "execution_count": 25,
   "id": "c90d08bc",
   "metadata": {},
   "outputs": [],
   "source": [
    "counts = grouped.size()"
   ]
  },
  {
   "cell_type": "code",
   "execution_count": 32,
   "id": "7dae6dd3",
   "metadata": {
    "scrolled": true
   },
   "outputs": [
    {
     "data": {
      "text/html": [
       "<div>\n",
       "<style scoped>\n",
       "    .dataframe tbody tr th:only-of-type {\n",
       "        vertical-align: middle;\n",
       "    }\n",
       "\n",
       "    .dataframe tbody tr th {\n",
       "        vertical-align: top;\n",
       "    }\n",
       "\n",
       "    .dataframe thead th {\n",
       "        text-align: right;\n",
       "    }\n",
       "</style>\n",
       "<table border=\"1\" class=\"dataframe\">\n",
       "  <thead>\n",
       "    <tr style=\"text-align: right;\">\n",
       "      <th></th>\n",
       "      <th>year</th>\n",
       "      <th>Investigation.Type</th>\n",
       "      <th>count</th>\n",
       "    </tr>\n",
       "  </thead>\n",
       "  <tbody>\n",
       "    <tr>\n",
       "      <th>0</th>\n",
       "      <td>1948</td>\n",
       "      <td>Accident</td>\n",
       "      <td>1</td>\n",
       "    </tr>\n",
       "    <tr>\n",
       "      <th>1</th>\n",
       "      <td>1962</td>\n",
       "      <td>Accident</td>\n",
       "      <td>1</td>\n",
       "    </tr>\n",
       "    <tr>\n",
       "      <th>2</th>\n",
       "      <td>1974</td>\n",
       "      <td>Accident</td>\n",
       "      <td>1</td>\n",
       "    </tr>\n",
       "    <tr>\n",
       "      <th>3</th>\n",
       "      <td>1977</td>\n",
       "      <td>Accident</td>\n",
       "      <td>1</td>\n",
       "    </tr>\n",
       "    <tr>\n",
       "      <th>4</th>\n",
       "      <td>1979</td>\n",
       "      <td>Accident</td>\n",
       "      <td>2</td>\n",
       "    </tr>\n",
       "    <tr>\n",
       "      <th>...</th>\n",
       "      <td>...</td>\n",
       "      <td>...</td>\n",
       "      <td>...</td>\n",
       "    </tr>\n",
       "    <tr>\n",
       "      <th>83</th>\n",
       "      <td>2020</td>\n",
       "      <td>Incident</td>\n",
       "      <td>6</td>\n",
       "    </tr>\n",
       "    <tr>\n",
       "      <th>84</th>\n",
       "      <td>2021</td>\n",
       "      <td>Accident</td>\n",
       "      <td>1173</td>\n",
       "    </tr>\n",
       "    <tr>\n",
       "      <th>85</th>\n",
       "      <td>2021</td>\n",
       "      <td>Incident</td>\n",
       "      <td>8</td>\n",
       "    </tr>\n",
       "    <tr>\n",
       "      <th>86</th>\n",
       "      <td>2022</td>\n",
       "      <td>Accident</td>\n",
       "      <td>1237</td>\n",
       "    </tr>\n",
       "    <tr>\n",
       "      <th>87</th>\n",
       "      <td>2022</td>\n",
       "      <td>Incident</td>\n",
       "      <td>13</td>\n",
       "    </tr>\n",
       "  </tbody>\n",
       "</table>\n",
       "<p>88 rows × 3 columns</p>\n",
       "</div>"
      ],
      "text/plain": [
       "    year Investigation.Type  count\n",
       "0   1948           Accident      1\n",
       "1   1962           Accident      1\n",
       "2   1974           Accident      1\n",
       "3   1977           Accident      1\n",
       "4   1979           Accident      2\n",
       "..   ...                ...    ...\n",
       "83  2020           Incident      6\n",
       "84  2021           Accident   1173\n",
       "85  2021           Incident      8\n",
       "86  2022           Accident   1237\n",
       "87  2022           Incident     13\n",
       "\n",
       "[88 rows x 3 columns]"
      ]
     },
     "execution_count": 32,
     "metadata": {},
     "output_type": "execute_result"
    }
   ],
   "source": [
    "df_counts = counts.reset_index(name='count')\n",
    "df_counts"
   ]
  },
  {
   "cell_type": "code",
   "execution_count": 33,
   "id": "0a56ae34",
   "metadata": {
    "scrolled": true
   },
   "outputs": [
    {
     "data": {
      "text/html": [
       "<div>\n",
       "<style scoped>\n",
       "    .dataframe tbody tr th:only-of-type {\n",
       "        vertical-align: middle;\n",
       "    }\n",
       "\n",
       "    .dataframe tbody tr th {\n",
       "        vertical-align: top;\n",
       "    }\n",
       "\n",
       "    .dataframe thead th {\n",
       "        text-align: right;\n",
       "    }\n",
       "</style>\n",
       "<table border=\"1\" class=\"dataframe\">\n",
       "  <thead>\n",
       "    <tr style=\"text-align: right;\">\n",
       "      <th></th>\n",
       "      <th>Investigation.Type</th>\n",
       "      <th>count</th>\n",
       "    </tr>\n",
       "    <tr>\n",
       "      <th>year</th>\n",
       "      <th></th>\n",
       "      <th></th>\n",
       "    </tr>\n",
       "  </thead>\n",
       "  <tbody>\n",
       "    <tr>\n",
       "      <th>1948</th>\n",
       "      <td>Accident</td>\n",
       "      <td>1</td>\n",
       "    </tr>\n",
       "    <tr>\n",
       "      <th>1962</th>\n",
       "      <td>Accident</td>\n",
       "      <td>1</td>\n",
       "    </tr>\n",
       "    <tr>\n",
       "      <th>1974</th>\n",
       "      <td>Accident</td>\n",
       "      <td>1</td>\n",
       "    </tr>\n",
       "    <tr>\n",
       "      <th>1977</th>\n",
       "      <td>Accident</td>\n",
       "      <td>1</td>\n",
       "    </tr>\n",
       "    <tr>\n",
       "      <th>1979</th>\n",
       "      <td>Accident</td>\n",
       "      <td>2</td>\n",
       "    </tr>\n",
       "    <tr>\n",
       "      <th>...</th>\n",
       "      <td>...</td>\n",
       "      <td>...</td>\n",
       "    </tr>\n",
       "    <tr>\n",
       "      <th>2020</th>\n",
       "      <td>Incident</td>\n",
       "      <td>6</td>\n",
       "    </tr>\n",
       "    <tr>\n",
       "      <th>2021</th>\n",
       "      <td>Accident</td>\n",
       "      <td>1173</td>\n",
       "    </tr>\n",
       "    <tr>\n",
       "      <th>2021</th>\n",
       "      <td>Incident</td>\n",
       "      <td>8</td>\n",
       "    </tr>\n",
       "    <tr>\n",
       "      <th>2022</th>\n",
       "      <td>Accident</td>\n",
       "      <td>1237</td>\n",
       "    </tr>\n",
       "    <tr>\n",
       "      <th>2022</th>\n",
       "      <td>Incident</td>\n",
       "      <td>13</td>\n",
       "    </tr>\n",
       "  </tbody>\n",
       "</table>\n",
       "<p>88 rows × 2 columns</p>\n",
       "</div>"
      ],
      "text/plain": [
       "     Investigation.Type  count\n",
       "year                          \n",
       "1948           Accident      1\n",
       "1962           Accident      1\n",
       "1974           Accident      1\n",
       "1977           Accident      1\n",
       "1979           Accident      2\n",
       "...                 ...    ...\n",
       "2020           Incident      6\n",
       "2021           Accident   1173\n",
       "2021           Incident      8\n",
       "2022           Accident   1237\n",
       "2022           Incident     13\n",
       "\n",
       "[88 rows x 2 columns]"
      ]
     },
     "execution_count": 33,
     "metadata": {},
     "output_type": "execute_result"
    }
   ],
   "source": [
    "df_counts.set_index('year',inplace=False)"
   ]
  },
  {
   "cell_type": "code",
   "execution_count": null,
   "id": "91fc6189",
   "metadata": {},
   "outputs": [],
   "source": []
  }
 ],
 "metadata": {
  "kernelspec": {
   "display_name": "Python 3 (ipykernel)",
   "language": "python",
   "name": "python3"
  },
  "language_info": {
   "codemirror_mode": {
    "name": "ipython",
    "version": 3
   },
   "file_extension": ".py",
   "mimetype": "text/x-python",
   "name": "python",
   "nbconvert_exporter": "python",
   "pygments_lexer": "ipython3",
   "version": "3.11.5"
  }
 },
 "nbformat": 4,
 "nbformat_minor": 5
}
