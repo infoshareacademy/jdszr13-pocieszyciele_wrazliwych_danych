{
 "cells": [
  {
   "cell_type": "code",
   "execution_count": 1,
   "metadata": {},
   "outputs": [],
   "source": [
    "import pandas as pd\n",
    "import numpy as np\n",
    "import matplotlib.pyplot as plt\n",
    "import seaborn as sns\n",
    "from sklearn.impute import SimpleImputer\n",
    "from sklearn.preprocessing import OneHotEncoder, MinMaxScaler, OrdinalEncoder, StandardScaler, LabelEncoder\n",
    "from sklearn.pipeline import Pipeline\n",
    "from sklearn.compose import ColumnTransformer\n",
    "from sklearn.linear_model import LogisticRegression"
   ]
  },
  {
   "cell_type": "code",
   "execution_count": 2,
   "metadata": {},
   "outputs": [],
   "source": [
    "pre_df = pd.read_csv('dane/AviationData.csv', encoding='ISO-8859-1', dtype={6: str, 7: str, 28: str})\n",
    "df = pre_df[pre_df['Country'] == 'United States']\n"
   ]
  },
  {
   "cell_type": "code",
   "execution_count": 3,
   "metadata": {},
   "outputs": [
    {
     "name": "stdout",
     "output_type": "stream",
     "text": [
      "         Event.Id Investigation.Type Accident.Number  Event.Date  \\\n",
      "0  20001218X45444           Accident      SEA87LA080  1948-10-24   \n",
      "1  20001218X45447           Accident      LAX94LA336  1962-07-19   \n",
      "2  20061025X01555           Accident      NYC07LA005  1974-08-30   \n",
      "3  20001218X45448           Accident      LAX96LA321  1977-06-19   \n",
      "4  20041105X01764           Accident      CHI79FA064  1979-08-02   \n",
      "\n",
      "          Location        Country   Latitude   Longitude Airport.Code  \\\n",
      "0  MOOSE CREEK, ID  United States        NaN         NaN          NaN   \n",
      "1   BRIDGEPORT, CA  United States        NaN         NaN          NaN   \n",
      "2    Saltville, VA  United States  36.922223  -81.878056          NaN   \n",
      "3       EUREKA, CA  United States        NaN         NaN          NaN   \n",
      "4       Canton, OH  United States        NaN         NaN          NaN   \n",
      "\n",
      "  Airport.Name  ... Purpose.of.flight Air.carrier Total.Fatal.Injuries  \\\n",
      "0          NaN  ...          Personal         NaN                  2.0   \n",
      "1          NaN  ...          Personal         NaN                  4.0   \n",
      "2          NaN  ...          Personal         NaN                  3.0   \n",
      "3          NaN  ...          Personal         NaN                  2.0   \n",
      "4          NaN  ...          Personal         NaN                  1.0   \n",
      "\n",
      "  Total.Serious.Injuries Total.Minor.Injuries Total.Uninjured  \\\n",
      "0                    0.0                  0.0             0.0   \n",
      "1                    0.0                  0.0             0.0   \n",
      "2                    NaN                  NaN             NaN   \n",
      "3                    0.0                  0.0             0.0   \n",
      "4                    2.0                  NaN             0.0   \n",
      "\n",
      "  Weather.Condition  Broad.phase.of.flight   Report.Status Publication.Date  \n",
      "0               UNK                 Cruise  Probable Cause              NaN  \n",
      "1               UNK                Unknown  Probable Cause       19-09-1996  \n",
      "2               IMC                 Cruise  Probable Cause       26-02-2007  \n",
      "3               IMC                 Cruise  Probable Cause       12-09-2000  \n",
      "4               VMC               Approach  Probable Cause       16-04-1980  \n",
      "\n",
      "[5 rows x 31 columns]\n"
     ]
    }
   ],
   "source": [
    "print(df.head())\n"
   ]
  },
  {
   "cell_type": "code",
   "execution_count": 4,
   "metadata": {},
   "outputs": [
    {
     "name": "stdout",
     "output_type": "stream",
     "text": [
      "Event.Id: ['20001218X45444' '20001218X45447' '20061025X01555' ... '20221227106497'\n",
      " '20221227106498' '20221230106513']\n",
      "Investigation.Type: ['Accident' 'Incident']\n",
      "Accident.Number: ['SEA87LA080' 'LAX94LA336' 'NYC07LA005' ... 'WPR23LA075' 'WPR23LA076'\n",
      " 'ERA23LA097']\n",
      "Event.Date: ['1948-10-24' '1962-07-19' '1974-08-30' ... '2022-12-21' '2022-12-26'\n",
      " '2022-12-29']\n",
      "Location: ['MOOSE CREEK, ID' 'BRIDGEPORT, CA' 'Saltville, VA' ... 'Kellyton, AL'\n",
      " 'San Manual, AZ' 'Auburn Hills, MI']\n",
      "Country: ['United States']\n",
      "Latitude: [nan '36.922223' '42.445277' ... '321814N' '039101N' '373829N']\n",
      "Longitude: [nan '-81.878056' '-70.758333' ... '1114536W' '0835218W' '0121410W']\n",
      "Airport.Code: [nan 'N58' 'JAX' ... 'KTOP' '8F6' 'KSRC']\n",
      "Airport.Name: [nan 'BLACKBURN AG STRIP' 'HANOVER' ... 'HAWKINSVILLE-PULASKI COUNTY'\n",
      " 'Lewiston Municipal Airport' 'WICHITA DWIGHT D EISENHOWER NT']\n",
      "Injury.Severity: ['Fatal(2)' 'Fatal(4)' 'Fatal(3)' 'Fatal(1)' 'Non-Fatal' 'Incident'\n",
      " 'Fatal(8)' 'Fatal(78)' 'Fatal(7)' 'Fatal(6)' 'Fatal(5)' 'Fatal(153)'\n",
      " 'Fatal(12)' 'Fatal(14)' 'Fatal(23)' 'Fatal(10)' 'Fatal(11)' 'Fatal(17)'\n",
      " 'Fatal(13)' 'Fatal(70)' 'Fatal(9)' 'Unavailable' 'Fatal(135)' 'Fatal(31)'\n",
      " 'Fatal(25)' 'Fatal(82)' 'Fatal(156)' 'Fatal(28)' 'Fatal(18)' 'Fatal(43)'\n",
      " 'Fatal(111)' 'Fatal(20)' 'Fatal(73)' 'Fatal(34)' 'Fatal(27)' 'Fatal(16)'\n",
      " 'Fatal(37)' 'Fatal(132)' 'Fatal(68)' 'Fatal(15)' 'Fatal(110)'\n",
      " 'Fatal(230)' 'Fatal(29)' 'Fatal(228)' 'Fatal(88)' 'Fatal(19)' 'Fatal(44)'\n",
      " 'Fatal(64)' 'Fatal(65)' 'Fatal(92)' 'Fatal(265)' 'Fatal(21)' 'Fatal(49)'\n",
      " 'Fatal' nan 'Minor' 'Serious']\n",
      "Aircraft.damage: ['Destroyed' 'Substantial' 'Minor' nan 'Unknown']\n",
      "Aircraft.Category: [nan 'Airplane' 'Helicopter' 'Glider' 'Balloon' 'Gyrocraft' 'Ultralight'\n",
      " 'Unknown' 'Blimp' 'Powered-Lift' 'Weight-Shift' 'Powered Parachute'\n",
      " 'Rocket' 'WSFT' 'ULTR']\n",
      "Registration.Number: ['NC6404' 'N5069P' 'N5142R' ... 'N749PJ' 'N210CU' 'N9026P']\n",
      "Make: ['Stinson' 'Piper' 'Cessna' ... 'JAMES R DERNOVSEK' 'ORLICAN S R O'\n",
      " 'ROYSE RALPH L']\n",
      "Model: ['108-3' 'PA24-180' '172M' ... 'KITFOX S5' 'M-8 EAGLE' 'PA42']\n",
      "Amateur.Built: ['No' 'Yes' nan]\n",
      "Number.of.Engines: [ 1. nan  2.  0.  3.  4.  8.  6.]\n",
      "Engine.Type: ['Reciprocating' nan 'Turbo Fan' 'Turbo Shaft' 'Unknown' 'Turbo Prop'\n",
      " 'Turbo Jet' 'Electric' 'Hybrid Rocket' 'LR' 'NONE' 'UNK']\n",
      "FAR.Description: [nan 'Part 129: Foreign' 'Part 91: General Aviation'\n",
      " 'Part 135: Air Taxi & Commuter' 'Part 125: 20+ Pax,6000+ lbs'\n",
      " 'Part 121: Air Carrier' 'Part 137: Agricultural'\n",
      " 'Part 133: Rotorcraft Ext. Load' 'Unknown' 'Part 91F: Special Flt Ops.'\n",
      " 'Public Aircraft' 'Public Use' 'Part 91 Subpart K: Fractional' '091'\n",
      " '135' '121' '137' '133' '091K' '129' 'PUBU' 'NUSC' 'ARMF' 'UNK' '103'\n",
      " '125' 'NUSN' '437' '107']\n",
      "Schedule: [nan 'SCHD' 'NSCH' 'UNK']\n",
      "Purpose.of.flight: ['Personal' nan 'Business' 'Instructional' 'Unknown' 'Ferry'\n",
      " 'Executive/corporate' 'Aerial Observation' 'Aerial Application'\n",
      " 'Public Aircraft' 'Skydiving' 'Other Work Use' 'Positioning'\n",
      " 'Flight Test' 'Air Race/show' 'Air Drop' 'Glider Tow'\n",
      " 'Public Aircraft - Federal' 'Public Aircraft - Local' 'External Load'\n",
      " 'Public Aircraft - State' 'Banner Tow' 'Firefighting' 'Air Race show'\n",
      " 'PUBS' 'ASHO' 'PUBL']\n",
      "Air.carrier: [nan 'Air Canada' 'Rocky Mountain Helicopters, In' ...\n",
      " 'SKY WEST AVIATION INC TRUSTEE' 'GERBER RICHARD E' 'MC CESSNA 210N LLC']\n",
      "Total.Fatal.Injuries: [  2.   4.   3.   1.  nan   0.   8.  78.   7.   6.   5. 153.  12.  14.\n",
      "  23.  10.  11.  17.  13.  70.   9. 135.  31.  25.  82. 156.  28.  18.\n",
      "  43. 111.  20.  73.  34.  27.  16.  37. 132.  68.  15. 110. 230.  29.\n",
      " 228.  88.  19.  44.  64.  65.  92. 265.  21.  49.]\n",
      "Total.Serious.Injuries: [  0.  nan   2.   1.   6.   4.   5.  10.   3.   8.   9.   7.  15.  17.\n",
      "  28.  26.  47.  81.  13.  60.  16.  12.  45.  88.  41.  11.  25. 137.\n",
      "  19.  21.  27.  20. 125.  22.]\n",
      "Total.Minor.Injuries: [  0.  nan   1.   3.   2.   4.  24.   6.   5.  25.  17.  19.  33.  14.\n",
      "   8.  13.  15.   7.   9.  16.  20.  11.  12.  10.  38.  42.  62.  28.\n",
      "  31.  18.  27.  57.  50.  23. 125.  26.  36.  21.  96.  30.  32.  22.\n",
      "  58.  65.  35.  43.]\n",
      "Total.Uninjured: [  0.  nan  44.   2.   1.   3.   6.   4. 149.  12. 182. 154.   5.  10.\n",
      "   7. 119.  36.  51.  16.  83.   9.  68.  30.  20.  18.   8. 108.  11.\n",
      " 152.  21.  48.  56. 113. 129.  29.  13.  84.  74. 142. 102. 393. 128.\n",
      " 112.  17.  65.  67. 136.  23. 116.  22.  57.  58.  73. 203.  31. 201.\n",
      " 412. 159.  39. 186. 588.  82.  95. 146. 190. 245. 172.  52.  25.  59.\n",
      " 131. 151. 180. 150.  86.  19. 133. 240.  15. 125. 440.  77. 122. 205.\n",
      " 289. 110.  79.  66.  87.  49. 104. 250.  33. 138. 100.  53. 158. 127.\n",
      " 160. 260.  47.  38. 165.  81.  41.  14.  72.  98. 188. 239.  27. 105.\n",
      " 111. 212. 157.  46. 121.  75.  71.  45.  91. 145.  99.  85.  96.  50.\n",
      "  93. 276. 365. 371. 103. 189.  37. 107.  61.  26. 271. 130.  89. 439.\n",
      " 132. 219.  43. 195.  78. 118. 175.  32. 507. 421.  90. 225. 269. 169.\n",
      " 236. 224. 134. 238. 106. 331. 140.  94. 192. 161. 270.  69. 213. 233.\n",
      " 115.  42. 167. 137. 114. 148. 222.  92. 375.  76. 171. 173. 246. 109.\n",
      " 234. 123. 220. 408. 279. 363. 135. 528. 334. 178. 147. 126.  62.  70.\n",
      "  97. 228. 226.  64. 290. 206. 297. 349. 208. 144.  54.  24. 304. 274.\n",
      "  55. 199.  80. 441. 194. 309. 185. 261. 241. 383. 177. 221. 259. 254.\n",
      " 156.  40.  34. 247. 176.  63.  28. 218. 282. 320. 272. 204. 124. 215.\n",
      " 298. 120. 280. 179. 315. 461. 200. 153.  60. 308.  88. 361. 277. 235.\n",
      " 187. 191. 101. 162.  35. 197. 193. 164. 387. 163. 139. 267. 357. 288.\n",
      " 436. 255. 443. 385. 459. 202. 141. 414. 229. 262. 166. 209. 184. 339.\n",
      " 168. 198. 299. 265. 322. 196. 117. 155. 249. 329. 699. 287. 370. 244.\n",
      " 230. 386. 300. 252. 283. 404. 319. 183. 450. 356. 216. 214. 448. 324.\n",
      " 338. 273. 401. 253. 143. 312. 368. 306. 501. 237. 307. 296. 263. 291.\n",
      " 314. 285. 170. 311. 352. 257. 268. 454. 243. 227. 576. 275. 394. 210.\n",
      " 397. 278. 264. 174. 333. 295. 301. 294. 378. 181. 217. 406. 232. 251.]\n",
      "Weather.Condition: ['UNK' 'IMC' 'VMC' nan 'Unk']\n",
      "Broad.phase.of.flight: ['Cruise' 'Unknown' 'Approach' 'Climb' 'Takeoff' 'Landing' 'Taxi'\n",
      " 'Descent' 'Maneuvering' 'Standing' 'Go-around' 'Other' nan]\n",
      "Report.Status: ['Probable Cause' 'Factual' 'Preliminary' ...\n",
      " 'The pilot did not ensure adequate clearance from construction vehicles during taxi.'\n",
      " 'The pilot\\x92s failure to secure the magneto switch before attempting to hand rotate the engine which resulted in an inadvertent engine start, a runaway airplane, and subsequent impact with parked airplanes. Contributing to the accident was the failure to properly secure the airplane with chocks.'\n",
      " 'The pilot\\x92s loss of control due to a wind gust during landing.']\n",
      "Publication.Date: [nan '19-09-1996' '26-02-2007' ... '13-12-2022' '23-12-2022' '29-12-2022']\n"
     ]
    }
   ],
   "source": [
    "# sprawdzanie wartości w kolumnach\n",
    "for column in df.head() :\n",
    "    print(f\"{column}: {df[column].unique()}\")"
   ]
  },
  {
   "cell_type": "code",
   "execution_count": 6,
   "metadata": {},
   "outputs": [
    {
     "data": {
      "text/plain": [
       "Index(['Event.Id', 'Investigation.Type', 'Accident.Number', 'Event.Date',\n",
       "       'Location', 'Country', 'Latitude', 'Longitude', 'Airport.Code',\n",
       "       'Airport.Name', 'Injury.Severity', 'Aircraft.damage',\n",
       "       'Aircraft.Category', 'Registration.Number', 'Make', 'Model',\n",
       "       'Amateur.Built', 'Number.of.Engines', 'Engine.Type', 'FAR.Description',\n",
       "       'Schedule', 'Purpose.of.flight', 'Air.carrier', 'Total.Fatal.Injuries',\n",
       "       'Total.Serious.Injuries', 'Total.Minor.Injuries', 'Total.Uninjured',\n",
       "       'Weather.Condition', 'Broad.phase.of.flight', 'Report.Status',\n",
       "       'Publication.Date'],\n",
       "      dtype='object')"
      ]
     },
     "execution_count": 6,
     "metadata": {},
     "output_type": "execute_result"
    }
   ],
   "source": [
    "df.columns"
   ]
  },
  {
   "cell_type": "code",
   "execution_count": 5,
   "metadata": {},
   "outputs": [
    {
     "name": "stdout",
     "output_type": "stream",
     "text": [
      "0 Event.Id\n",
      "1 Investigation.Type\n",
      "2 Accident.Number\n",
      "3 Event.Date\n",
      "4 Location\n",
      "5 Country\n",
      "6 Latitude\n",
      "7 Longitude\n",
      "8 Airport.Code\n",
      "9 Airport.Name\n",
      "10 Injury.Severity\n",
      "11 Aircraft.damage\n",
      "12 Aircraft.Category\n",
      "13 Registration.Number\n",
      "14 Make\n",
      "15 Model\n",
      "16 Amateur.Built\n",
      "17 Number.of.Engines\n",
      "18 Engine.Type\n",
      "19 FAR.Description\n",
      "20 Schedule\n",
      "21 Purpose.of.flight\n",
      "22 Air.carrier\n",
      "23 Total.Fatal.Injuries\n",
      "24 Total.Serious.Injuries\n",
      "25 Total.Minor.Injuries\n",
      "26 Total.Uninjured\n",
      "27 Weather.Condition\n",
      "28 Broad.phase.of.flight\n",
      "29 Report.Status\n",
      "30 Publication.Date\n"
     ]
    }
   ],
   "source": [
    "for k in df.keys():\n",
    "    tmpNum = df.columns.get_loc(k)\n",
    "    print(tmpNum,k)"
   ]
  },
  {
   "cell_type": "code",
   "execution_count": 6,
   "metadata": {},
   "outputs": [
    {
     "name": "stdout",
     "output_type": "stream",
     "text": [
      "How many nulls:  496081\n"
     ]
    },
    {
     "data": {
      "text/plain": [
       "Event.Id                      0\n",
       "Investigation.Type            0\n",
       "Accident.Number               0\n",
       "Event.Date                    0\n",
       "Location                     11\n",
       "Country                       0\n",
       "Latitude                  49983\n",
       "Longitude                 49993\n",
       "Airport.Code              33176\n",
       "Airport.Name              30678\n",
       "Injury.Severity             108\n",
       "Aircraft.damage            1979\n",
       "Aircraft.Category         54094\n",
       "Registration.Number         116\n",
       "Make                         21\n",
       "Model                        38\n",
       "Amateur.Built                21\n",
       "Number.of.Engines          1875\n",
       "Engine.Type                3042\n",
       "FAR.Description           54023\n",
       "Schedule                  71951\n",
       "Purpose.of.flight          2429\n",
       "Air.carrier               67753\n",
       "Total.Fatal.Injuries      10654\n",
       "Total.Serious.Injuries    11375\n",
       "Total.Minor.Injuries      10729\n",
       "Total.Uninjured            5005\n",
       "Weather.Condition           645\n",
       "Broad.phase.of.flight     21090\n",
       "Report.Status              2611\n",
       "Publication.Date          12681\n",
       "dtype: int64"
      ]
     },
     "execution_count": 6,
     "metadata": {},
     "output_type": "execute_result"
    }
   ],
   "source": [
    "print(\"How many nulls: \", df.isnull().sum().sum())\n",
    "df.isnull().sum()"
   ]
  },
  {
   "cell_type": "code",
   "execution_count": 7,
   "metadata": {},
   "outputs": [
    {
     "name": "stderr",
     "output_type": "stream",
     "text": [
      "C:\\Users\\User\\AppData\\Local\\Temp\\ipykernel_17168\\2900333079.py:1: SettingWithCopyWarning: \n",
      "A value is trying to be set on a copy of a slice from a DataFrame\n",
      "\n",
      "See the caveats in the documentation: https://pandas.pydata.org/pandas-docs/stable/user_guide/indexing.html#returning-a-view-versus-a-copy\n",
      "  df.drop(columns=[\"Latitude\", \"Registration.Number\", \"Make\",\"Longitude\", \"Schedule\", \"FAR.Description\", \"Air.carrier\", \"Airport.Code\", \"Airport.Name\", \"Aircraft.Category\", \"Event.Id\", \"Accident.Number\"], inplace=True)\n"
     ]
    }
   ],
   "source": [
    "df.drop(columns=[\"Latitude\", \"Registration.Number\", \"Make\",\"Longitude\", \"Schedule\", \"FAR.Description\", \"Air.carrier\", \"Airport.Code\", \"Airport.Name\", \"Aircraft.Category\", \"Event.Id\", \"Accident.Number\"], inplace=True)"
   ]
  },
  {
   "cell_type": "code",
   "execution_count": 8,
   "metadata": {},
   "outputs": [
    {
     "name": "stdout",
     "output_type": "stream",
     "text": [
      "0 Investigation.Type\n",
      "1 Event.Date\n",
      "2 Location\n",
      "3 Country\n",
      "4 Injury.Severity\n",
      "5 Aircraft.damage\n",
      "6 Model\n",
      "7 Amateur.Built\n",
      "8 Number.of.Engines\n",
      "9 Engine.Type\n",
      "10 Purpose.of.flight\n",
      "11 Total.Fatal.Injuries\n",
      "12 Total.Serious.Injuries\n",
      "13 Total.Minor.Injuries\n",
      "14 Total.Uninjured\n",
      "15 Weather.Condition\n",
      "16 Broad.phase.of.flight\n",
      "17 Report.Status\n",
      "18 Publication.Date\n"
     ]
    }
   ],
   "source": [
    "for k in df.keys():\n",
    "    tmpNum = df.columns.get_loc(k)\n",
    "    print(tmpNum,k)"
   ]
  },
  {
   "cell_type": "code",
   "execution_count": 9,
   "metadata": {},
   "outputs": [
    {
     "name": "stdout",
     "output_type": "stream",
     "text": [
      "Investigation.Type: ['Accident' 'Incident']\n",
      "Event.Date: ['1948-10-24' '1962-07-19' '1974-08-30' ... '2022-12-21' '2022-12-26'\n",
      " '2022-12-29']\n",
      "Location: ['MOOSE CREEK, ID' 'BRIDGEPORT, CA' 'Saltville, VA' ... 'Kellyton, AL'\n",
      " 'San Manual, AZ' 'Auburn Hills, MI']\n",
      "Country: ['United States']\n",
      "Injury.Severity: ['Fatal(2)' 'Fatal(4)' 'Fatal(3)' 'Fatal(1)' 'Non-Fatal' 'Incident'\n",
      " 'Fatal(8)' 'Fatal(78)' 'Fatal(7)' 'Fatal(6)' 'Fatal(5)' 'Fatal(153)'\n",
      " 'Fatal(12)' 'Fatal(14)' 'Fatal(23)' 'Fatal(10)' 'Fatal(11)' 'Fatal(17)'\n",
      " 'Fatal(13)' 'Fatal(70)' 'Fatal(9)' 'Unavailable' 'Fatal(135)' 'Fatal(31)'\n",
      " 'Fatal(25)' 'Fatal(82)' 'Fatal(156)' 'Fatal(28)' 'Fatal(18)' 'Fatal(43)'\n",
      " 'Fatal(111)' 'Fatal(20)' 'Fatal(73)' 'Fatal(34)' 'Fatal(27)' 'Fatal(16)'\n",
      " 'Fatal(37)' 'Fatal(132)' 'Fatal(68)' 'Fatal(15)' 'Fatal(110)'\n",
      " 'Fatal(230)' 'Fatal(29)' 'Fatal(228)' 'Fatal(88)' 'Fatal(19)' 'Fatal(44)'\n",
      " 'Fatal(64)' 'Fatal(65)' 'Fatal(92)' 'Fatal(265)' 'Fatal(21)' 'Fatal(49)'\n",
      " 'Fatal' nan 'Minor' 'Serious']\n",
      "Aircraft.damage: ['Destroyed' 'Substantial' 'Minor' nan 'Unknown']\n",
      "Model: ['108-3' 'PA24-180' '172M' ... 'KITFOX S5' 'M-8 EAGLE' 'PA42']\n",
      "Amateur.Built: ['No' 'Yes' nan]\n",
      "Number.of.Engines: [ 1. nan  2.  0.  3.  4.  8.  6.]\n",
      "Engine.Type: ['Reciprocating' nan 'Turbo Fan' 'Turbo Shaft' 'Unknown' 'Turbo Prop'\n",
      " 'Turbo Jet' 'Electric' 'Hybrid Rocket' 'LR' 'NONE' 'UNK']\n",
      "Purpose.of.flight: ['Personal' nan 'Business' 'Instructional' 'Unknown' 'Ferry'\n",
      " 'Executive/corporate' 'Aerial Observation' 'Aerial Application'\n",
      " 'Public Aircraft' 'Skydiving' 'Other Work Use' 'Positioning'\n",
      " 'Flight Test' 'Air Race/show' 'Air Drop' 'Glider Tow'\n",
      " 'Public Aircraft - Federal' 'Public Aircraft - Local' 'External Load'\n",
      " 'Public Aircraft - State' 'Banner Tow' 'Firefighting' 'Air Race show'\n",
      " 'PUBS' 'ASHO' 'PUBL']\n",
      "Total.Fatal.Injuries: [  2.   4.   3.   1.  nan   0.   8.  78.   7.   6.   5. 153.  12.  14.\n",
      "  23.  10.  11.  17.  13.  70.   9. 135.  31.  25.  82. 156.  28.  18.\n",
      "  43. 111.  20.  73.  34.  27.  16.  37. 132.  68.  15. 110. 230.  29.\n",
      " 228.  88.  19.  44.  64.  65.  92. 265.  21.  49.]\n",
      "Total.Serious.Injuries: [  0.  nan   2.   1.   6.   4.   5.  10.   3.   8.   9.   7.  15.  17.\n",
      "  28.  26.  47.  81.  13.  60.  16.  12.  45.  88.  41.  11.  25. 137.\n",
      "  19.  21.  27.  20. 125.  22.]\n",
      "Total.Minor.Injuries: [  0.  nan   1.   3.   2.   4.  24.   6.   5.  25.  17.  19.  33.  14.\n",
      "   8.  13.  15.   7.   9.  16.  20.  11.  12.  10.  38.  42.  62.  28.\n",
      "  31.  18.  27.  57.  50.  23. 125.  26.  36.  21.  96.  30.  32.  22.\n",
      "  58.  65.  35.  43.]\n",
      "Total.Uninjured: [  0.  nan  44.   2.   1.   3.   6.   4. 149.  12. 182. 154.   5.  10.\n",
      "   7. 119.  36.  51.  16.  83.   9.  68.  30.  20.  18.   8. 108.  11.\n",
      " 152.  21.  48.  56. 113. 129.  29.  13.  84.  74. 142. 102. 393. 128.\n",
      " 112.  17.  65.  67. 136.  23. 116.  22.  57.  58.  73. 203.  31. 201.\n",
      " 412. 159.  39. 186. 588.  82.  95. 146. 190. 245. 172.  52.  25.  59.\n",
      " 131. 151. 180. 150.  86.  19. 133. 240.  15. 125. 440.  77. 122. 205.\n",
      " 289. 110.  79.  66.  87.  49. 104. 250.  33. 138. 100.  53. 158. 127.\n",
      " 160. 260.  47.  38. 165.  81.  41.  14.  72.  98. 188. 239.  27. 105.\n",
      " 111. 212. 157.  46. 121.  75.  71.  45.  91. 145.  99.  85.  96.  50.\n",
      "  93. 276. 365. 371. 103. 189.  37. 107.  61.  26. 271. 130.  89. 439.\n",
      " 132. 219.  43. 195.  78. 118. 175.  32. 507. 421.  90. 225. 269. 169.\n",
      " 236. 224. 134. 238. 106. 331. 140.  94. 192. 161. 270.  69. 213. 233.\n",
      " 115.  42. 167. 137. 114. 148. 222.  92. 375.  76. 171. 173. 246. 109.\n",
      " 234. 123. 220. 408. 279. 363. 135. 528. 334. 178. 147. 126.  62.  70.\n",
      "  97. 228. 226.  64. 290. 206. 297. 349. 208. 144.  54.  24. 304. 274.\n",
      "  55. 199.  80. 441. 194. 309. 185. 261. 241. 383. 177. 221. 259. 254.\n",
      " 156.  40.  34. 247. 176.  63.  28. 218. 282. 320. 272. 204. 124. 215.\n",
      " 298. 120. 280. 179. 315. 461. 200. 153.  60. 308.  88. 361. 277. 235.\n",
      " 187. 191. 101. 162.  35. 197. 193. 164. 387. 163. 139. 267. 357. 288.\n",
      " 436. 255. 443. 385. 459. 202. 141. 414. 229. 262. 166. 209. 184. 339.\n",
      " 168. 198. 299. 265. 322. 196. 117. 155. 249. 329. 699. 287. 370. 244.\n",
      " 230. 386. 300. 252. 283. 404. 319. 183. 450. 356. 216. 214. 448. 324.\n",
      " 338. 273. 401. 253. 143. 312. 368. 306. 501. 237. 307. 296. 263. 291.\n",
      " 314. 285. 170. 311. 352. 257. 268. 454. 243. 227. 576. 275. 394. 210.\n",
      " 397. 278. 264. 174. 333. 295. 301. 294. 378. 181. 217. 406. 232. 251.]\n",
      "Weather.Condition: ['UNK' 'IMC' 'VMC' nan 'Unk']\n",
      "Broad.phase.of.flight: ['Cruise' 'Unknown' 'Approach' 'Climb' 'Takeoff' 'Landing' 'Taxi'\n",
      " 'Descent' 'Maneuvering' 'Standing' 'Go-around' 'Other' nan]\n",
      "Report.Status: ['Probable Cause' 'Factual' 'Preliminary' ...\n",
      " 'The pilot did not ensure adequate clearance from construction vehicles during taxi.'\n",
      " 'The pilot\\x92s failure to secure the magneto switch before attempting to hand rotate the engine which resulted in an inadvertent engine start, a runaway airplane, and subsequent impact with parked airplanes. Contributing to the accident was the failure to properly secure the airplane with chocks.'\n",
      " 'The pilot\\x92s loss of control due to a wind gust during landing.']\n",
      "Publication.Date: [nan '19-09-1996' '26-02-2007' ... '13-12-2022' '23-12-2022' '29-12-2022']\n"
     ]
    }
   ],
   "source": [
    "# sprawdzanie wartości w kolumnach\n",
    "for column in df.head() :\n",
    "    print(f\"{column}: {df[column].unique()}\")"
   ]
  },
  {
   "cell_type": "code",
   "execution_count": null,
   "metadata": {},
   "outputs": [],
   "source": [
    "dataset = df\n",
    "\n",
    "numerical_features = [\"Total.Fatal.Injuries\", \"Total.Serious.Injuries\", \"Total.Minor.Injuries\", \"Total.Uninjured\"]\n",
    "binary_features = [\"Investigation.Type\"]\n",
    "categorical_features = [\"Aircraft.damage\", \"Model\", \"Amateur.Built\", \"Number.of.Engines\", \"Engine.Type\", \"Purpose.of.flight\", \"Broad.phase.of.flight\", \"Weather.Condition\"]\n",
    "\n",
    "\n",
    "numeric_pipeline = Pipeline(steps=[\n",
    "    ('impute', SimpleImputer(strategy='mean')),\n",
    "    ('scale', StandardScaler())\n",
    "])\n",
    "\n",
    "categorical_pipeline = Pipeline(steps=[\n",
    "    ('impute', SimpleImputer(strategy='most_frequent')),\n",
    "    ('one-hot', OneHotEncoder(handle_unknown='ignore', sparse_output=False)),\n",
    "])\n",
    "\n",
    "binary_pipeline = Pipeline(steps=[\n",
    "    ('impute', SimpleImputer(strategy='most_frequent'))\n",
    "])\n",
    "\n",
    "full_processor = ColumnTransformer(transformers=[\n",
    "    ('number', numeric_pipeline, numerical_features),\n",
    "    ('category', categorical_pipeline, categorical_features),\n",
    "    ('binary', binary_pipeline, binary_features)\n",
    "],\n",
    "remainder = 'passthrough') # 'drop'\n",
    "\n",
    "full_processor.fit(dataset)\n",
    "\n",
    "data_set_mod = pd.DataFrame(full_processor.transform(dataset), columns=full_processor.get_feature_names_out())\n",
    "data_set_mod"
   ]
  }
 ],
 "metadata": {
  "kernelspec": {
   "display_name": "Python 3 (ipykernel)",
   "language": "python",
   "name": "python3"
  },
  "language_info": {
   "codemirror_mode": {
    "name": "ipython",
    "version": 3
   },
   "file_extension": ".py",
   "mimetype": "text/x-python",
   "name": "python",
   "nbconvert_exporter": "python",
   "pygments_lexer": "ipython3",
   "version": "3.11.5"
  }
 },
 "nbformat": 4,
 "nbformat_minor": 2
}
