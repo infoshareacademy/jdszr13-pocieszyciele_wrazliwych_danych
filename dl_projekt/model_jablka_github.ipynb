{
 "cells": [
  {
   "cell_type": "code",
   "execution_count": 1,
   "metadata": {},
   "outputs": [],
   "source": [
    "import pandas as pd\n",
    "import numpy as np\n",
    "import seaborn as sns\n",
    "import matplotlib.pyplot as plt\n",
    "import matplotlib.image as img\n",
    "import cv2\n",
    "import itertools\n",
    "import pathlib\n",
    "import warnings\n",
    "import os\n",
    "import random\n",
    "import time\n",
    "import gc\n",
    "from IPython.display import Markdown, display\n",
    "from PIL import Image\n",
    "from random import randint\n",
    "#warnings.filterwarnings(‘ignore’)\n",
    "from imblearn.over_sampling import SMOTE\n",
    "from sklearn.model_selection import train_test_split\n",
    "from sklearn.metrics import matthews_corrcoef as MCC\n",
    "from sklearn.metrics import balanced_accuracy_score as BAS\n",
    "from sklearn.metrics import classification_report, confusion_matrix, accuracy_score\n",
    "import keras\n",
    "from tensorflow import keras\n",
    "from keras import Sequential\n",
    "from keras import layers\n",
    "import tensorflow as tf\n",
    "#import tensorflow_addons as tfa\n",
    "from tensorflow.keras.preprocessing import image_dataset_from_directory\n",
    "#from keras.utils.vis_utils import plot_model\n",
    "from tensorflow.keras import Sequential, Input\n",
    "from keras.utils import to_categorical\n",
    "from tensorflow.keras.utils import to_categorical\n",
    "from tensorflow.keras.layers import Dense, Dropout,SeparableConv2D, Activation, BatchNormalization, Flatten, GlobalAveragePooling2D, Conv2D, MaxPooling2D\n",
    "from tensorflow.keras.layers import Conv2D, Flatten\n",
    "from tensorflow.keras.callbacks import ReduceLROnPlateau,EarlyStopping, ModelCheckpoint\n",
    "from tensorflow.keras.applications.inception_v3 import InceptionV3\n",
    "from tensorflow.keras.preprocessing.image import ImageDataGenerator as IDG"
   ]
  },
  {
   "cell_type": "code",
   "execution_count": 2,
   "metadata": {},
   "outputs": [],
   "source": [
    "def printmd(string):   \n",
    "    display(Markdown(string))\n",
    "    \n",
    "np.random.seed(0) # Add random seed of training for reproducibility\n",
    "\n",
    "def load_images_from_folder(folder,only_path = False, label = \"\"):\n",
    "    if only_path == False:\n",
    "        images = []\n",
    "        for filename in os.listdir(folder):\n",
    "            img = plt.imread(os.path.join(folder,filename))\n",
    "            if img is not None:\n",
    "                images.append(img)\n",
    "        return images\n",
    "    else:\n",
    "        path = []\n",
    "        for filename in os.listdir(folder):\n",
    "            img_path = os.path.join(folder,filename)\n",
    "            if img_path is not None:\n",
    "                path.append([label,img_path])\n",
    "        return path"
   ]
  },
  {
   "cell_type": "code",
   "execution_count": 3,
   "metadata": {},
   "outputs": [
    {
     "ename": "NotADirectoryError",
     "evalue": "[Errno 20] Not a directory: 'kaggle/input/fruit-recognition/Apple/.DS_Store'",
     "output_type": "error",
     "traceback": [
      "\u001b[0;31m---------------------------------------------------------------------------\u001b[0m",
      "\u001b[0;31mNotADirectoryError\u001b[0m                        Traceback (most recent call last)",
      "\u001b[1;32m/Users/em/Desktop/jablka_projekt_dl/model_jablka.ipynb Cell 3\u001b[0m line \u001b[0;36m9\n\u001b[1;32m      <a href='vscode-notebook-cell:/Users/em/Desktop/jablka_projekt_dl/model_jablka.ipynb#W2sZmlsZQ%3D%3D?line=6'>7</a>\u001b[0m     \u001b[39melse\u001b[39;00m: \n\u001b[1;32m      <a href='vscode-notebook-cell:/Users/em/Desktop/jablka_projekt_dl/model_jablka.ipynb#W2sZmlsZQ%3D%3D?line=7'>8</a>\u001b[0m         \u001b[39mfor\u001b[39;00m d \u001b[39min\u001b[39;00m os\u001b[39m.\u001b[39mlistdir(dirp\u001b[39m+\u001b[39mf):\n\u001b[0;32m----> <a href='vscode-notebook-cell:/Users/em/Desktop/jablka_projekt_dl/model_jablka.ipynb#W2sZmlsZQ%3D%3D?line=8'>9</a>\u001b[0m             images \u001b[39m+\u001b[39m\u001b[39m=\u001b[39m load_images_from_folder(dirp\u001b[39m+\u001b[39;49mf\u001b[39m+\u001b[39;49m\u001b[39m\"\u001b[39;49m\u001b[39m/\u001b[39;49m\u001b[39m\"\u001b[39;49m\u001b[39m+\u001b[39;49md,\u001b[39mTrue\u001b[39;49;00m,label \u001b[39m=\u001b[39;49m f)\n\u001b[1;32m     <a href='vscode-notebook-cell:/Users/em/Desktop/jablka_projekt_dl/model_jablka.ipynb#W2sZmlsZQ%3D%3D?line=10'>11</a>\u001b[0m df \u001b[39m=\u001b[39m pd\u001b[39m.\u001b[39mDataFrame(images, columns \u001b[39m=\u001b[39m [\u001b[39m\"\u001b[39m\u001b[39mfruit\u001b[39m\u001b[39m\"\u001b[39m, \u001b[39m\"\u001b[39m\u001b[39mpath\u001b[39m\u001b[39m\"\u001b[39m])\n\u001b[1;32m     <a href='vscode-notebook-cell:/Users/em/Desktop/jablka_projekt_dl/model_jablka.ipynb#W2sZmlsZQ%3D%3D?line=12'>13</a>\u001b[0m \u001b[39mfrom\u001b[39;00m \u001b[39msklearn\u001b[39;00m\u001b[39m.\u001b[39;00m\u001b[39mutils\u001b[39;00m \u001b[39mimport\u001b[39;00m shuffle\n",
      "\u001b[1;32m/Users/em/Desktop/jablka_projekt_dl/model_jablka.ipynb Cell 3\u001b[0m line \u001b[0;36m1\n\u001b[1;32m     <a href='vscode-notebook-cell:/Users/em/Desktop/jablka_projekt_dl/model_jablka.ipynb#W2sZmlsZQ%3D%3D?line=13'>14</a>\u001b[0m \u001b[39melse\u001b[39;00m:\n\u001b[1;32m     <a href='vscode-notebook-cell:/Users/em/Desktop/jablka_projekt_dl/model_jablka.ipynb#W2sZmlsZQ%3D%3D?line=14'>15</a>\u001b[0m     path \u001b[39m=\u001b[39m []\n\u001b[0;32m---> <a href='vscode-notebook-cell:/Users/em/Desktop/jablka_projekt_dl/model_jablka.ipynb#W2sZmlsZQ%3D%3D?line=15'>16</a>\u001b[0m     \u001b[39mfor\u001b[39;00m filename \u001b[39min\u001b[39;00m os\u001b[39m.\u001b[39;49mlistdir(folder):\n\u001b[1;32m     <a href='vscode-notebook-cell:/Users/em/Desktop/jablka_projekt_dl/model_jablka.ipynb#W2sZmlsZQ%3D%3D?line=16'>17</a>\u001b[0m         img_path \u001b[39m=\u001b[39m os\u001b[39m.\u001b[39mpath\u001b[39m.\u001b[39mjoin(folder,filename)\n\u001b[1;32m     <a href='vscode-notebook-cell:/Users/em/Desktop/jablka_projekt_dl/model_jablka.ipynb#W2sZmlsZQ%3D%3D?line=17'>18</a>\u001b[0m         \u001b[39mif\u001b[39;00m img_path \u001b[39mis\u001b[39;00m \u001b[39mnot\u001b[39;00m \u001b[39mNone\u001b[39;00m:\n",
      "\u001b[0;31mNotADirectoryError\u001b[0m: [Errno 20] Not a directory: 'kaggle/input/fruit-recognition/Apple/.DS_Store'"
     ]
    }
   ],
   "source": [
    "images = []\n",
    "#dirp = \"Users/em/Desktop/projekl_DL/kaggle/fruit-recognition/\"\n",
    "dirp = \"kaggle/input/fruit-recognition/\"\n",
    "for f in os.listdir(dirp):\n",
    "    if \"png\" in os.listdir(dirp+f)[0]:\n",
    "        images += load_images_from_folder(dirp+f,True,label = f)\n",
    "    else: \n",
    "        for d in os.listdir(dirp+f):\n",
    "            images += load_images_from_folder(dirp+f+\"/\"+d,True,label = f)\n",
    "            \n",
    "df = pd.DataFrame(images, columns = [\"fruit\", \"path\"])\n",
    "\n",
    "from sklearn.utils import shuffle\n",
    "df = shuffle(df, random_state = 0)\n",
    "df = df.reset_index(drop=True)\n",
    "\n",
    "fruit_names = sorted(df.fruit.unique())\n",
    "mapper_fruit_names = dict(zip(fruit_names, [t for t in range(len(fruit_names))]))\n",
    "df[\"label\"] = df[\"fruit\"].map(mapper_fruit_names)\n",
    "print(mapper_fruit_names)\n",
    "\n",
    "df"
   ]
  },
  {
   "cell_type": "code",
   "execution_count": 6,
   "metadata": {},
   "outputs": [
    {
     "ename": "TypeError",
     "evalue": "'NoneType' object is not iterable",
     "output_type": "error",
     "traceback": [
      "\u001b[0;31m---------------------------------------------------------------------------\u001b[0m",
      "\u001b[0;31mTypeError\u001b[0m                                 Traceback (most recent call last)",
      "\u001b[1;32m/Users/em/Desktop/projekl_DL/model_jablka.ipynb Cell 4\u001b[0m line \u001b[0;36m1\n\u001b[1;32m     <a href='vscode-notebook-cell:/Users/em/Desktop/projekl_DL/model_jablka.ipynb#W3sZmlsZQ%3D%3D?line=14'>15</a>\u001b[0m             \u001b[39mfor\u001b[39;00m d \u001b[39min\u001b[39;00m os\u001b[39m.\u001b[39mlistdir(os\u001b[39m.\u001b[39mpath\u001b[39m.\u001b[39mjoin(dirp, f)):\n\u001b[1;32m     <a href='vscode-notebook-cell:/Users/em/Desktop/projekl_DL/model_jablka.ipynb#W3sZmlsZQ%3D%3D?line=15'>16</a>\u001b[0m                 \u001b[39mif\u001b[39;00m os\u001b[39m.\u001b[39mpath\u001b[39m.\u001b[39misdir(os\u001b[39m.\u001b[39mpath\u001b[39m.\u001b[39mjoin(dirp, f, d)):  \u001b[39m# Sprawdza, czy element w podfolderze jest folderem\u001b[39;00m\n\u001b[0;32m---> <a href='vscode-notebook-cell:/Users/em/Desktop/projekl_DL/model_jablka.ipynb#W3sZmlsZQ%3D%3D?line=16'>17</a>\u001b[0m                     images \u001b[39m+\u001b[39m\u001b[39m=\u001b[39m load_images_from_folder(os\u001b[39m.\u001b[39mpath\u001b[39m.\u001b[39mjoin(dirp, f, d), \u001b[39mTrue\u001b[39;00m, label\u001b[39m=\u001b[39mf)\n\u001b[1;32m     <a href='vscode-notebook-cell:/Users/em/Desktop/projekl_DL/model_jablka.ipynb#W3sZmlsZQ%3D%3D?line=18'>19</a>\u001b[0m df \u001b[39m=\u001b[39m pd\u001b[39m.\u001b[39mDataFrame(images, columns\u001b[39m=\u001b[39m[\u001b[39m\"\u001b[39m\u001b[39mfruit\u001b[39m\u001b[39m\"\u001b[39m, \u001b[39m\"\u001b[39m\u001b[39mpath\u001b[39m\u001b[39m\"\u001b[39m])\n\u001b[1;32m     <a href='vscode-notebook-cell:/Users/em/Desktop/projekl_DL/model_jablka.ipynb#W3sZmlsZQ%3D%3D?line=19'>20</a>\u001b[0m df \u001b[39m=\u001b[39m shuffle(df, random_state\u001b[39m=\u001b[39m\u001b[39m0\u001b[39m)\n",
      "\u001b[0;31mTypeError\u001b[0m: 'NoneType' object is not iterable"
     ]
    }
   ],
   "source": [
    "import os\n",
    "import pandas as pd\n",
    "from sklearn.utils import shuffle\n",
    "\n",
    "def load_images_from_folder(folder, is_fruit, label=None):\n",
    "    # Funkcja do wczytywania obrazów z folderu\n",
    "\n",
    "    images = []\n",
    "dirp = \"kaggle/input/fruit-recognition/\"\n",
    "for f in os.listdir(dirp):\n",
    "    if os.path.isdir(os.path.join(dirp, f)):  # Sprawdza, czy element jest folderem\n",
    "        if \"png\" in os.listdir(os.path.join(dirp, f))[0]:  # Sprawdza, czy istnieje plik PNG w folderze\n",
    "            images += load_images_from_folder(os.path.join(dirp, f), True, label=f)\n",
    "        else:\n",
    "            for d in os.listdir(os.path.join(dirp, f)):\n",
    "                if os.path.isdir(os.path.join(dirp, f, d)):  # Sprawdza, czy element w podfolderze jest folderem\n",
    "                    images += load_images_from_folder(os.path.join(dirp, f, d), True, label=f)\n",
    "\n",
    "df = pd.DataFrame(images, columns=[\"fruit\", \"path\"])\n",
    "df = shuffle(df, random_state=0)\n",
    "\n",
    "fruit_names = sorted(df.fruit.unique())\n",
    "mapper_fruit_names = dict(zip(fruit_names, range(len(fruit_names))))\n",
    "df[\"label\"] = df[\"fruit\"].map(mapper_fruit_names)\n",
    "print(mapper_fruit_names)\n",
    "\n",
    "df\n"
   ]
  },
  {
   "cell_type": "code",
   "execution_count": null,
   "metadata": {},
   "outputs": [],
   "source": [
    "/Users/em/Desktop/jablka_projekt_dl/kaggle/input/fruit-recognition"
   ]
  },
  {
   "cell_type": "code",
   "execution_count": null,
   "metadata": {},
   "outputs": [],
   "source": [
    "kaggle datasets download -d chrisfilo/fruit-recognition"
   ]
  },
  {
   "cell_type": "code",
   "execution_count": 4,
   "metadata": {},
   "outputs": [
    {
     "name": "stdout",
     "output_type": "stream",
     "text": [
      "Collecting kaggle\n",
      "  Downloading kaggle-1.5.16.tar.gz (83 kB)\n",
      "\u001b[2K     \u001b[90m━━━━━━━━━━━━━━━━━━━━━━━━━━━━━━━━━━━━━━━━\u001b[0m \u001b[32m83.6/83.6 kB\u001b[0m \u001b[31m1.3 MB/s\u001b[0m eta \u001b[36m0:00:00\u001b[0ma \u001b[36m0:00:01\u001b[0m\n",
      "\u001b[?25h  Preparing metadata (setup.py) ... \u001b[?25ldone\n",
      "\u001b[?25hRequirement already satisfied: six>=1.10 in /opt/anaconda3/envs/repo13/lib/python3.9/site-packages (from kaggle) (1.16.0)\n",
      "Requirement already satisfied: certifi in /opt/anaconda3/envs/repo13/lib/python3.9/site-packages (from kaggle) (2023.7.22)\n",
      "Requirement already satisfied: python-dateutil in /opt/anaconda3/envs/repo13/lib/python3.9/site-packages (from kaggle) (2.8.2)\n",
      "Requirement already satisfied: requests in /opt/anaconda3/envs/repo13/lib/python3.9/site-packages (from kaggle) (2.28.1)\n",
      "Requirement already satisfied: tqdm in /opt/anaconda3/envs/repo13/lib/python3.9/site-packages (from kaggle) (4.64.1)\n",
      "Collecting python-slugify\n",
      "  Downloading python_slugify-8.0.1-py2.py3-none-any.whl (9.7 kB)\n",
      "Requirement already satisfied: urllib3 in /opt/anaconda3/envs/repo13/lib/python3.9/site-packages (from kaggle) (1.26.11)\n",
      "Requirement already satisfied: bleach in /opt/anaconda3/envs/repo13/lib/python3.9/site-packages (from kaggle) (4.1.0)\n",
      "Requirement already satisfied: webencodings in /opt/anaconda3/envs/repo13/lib/python3.9/site-packages (from bleach->kaggle) (0.5.1)\n",
      "Requirement already satisfied: packaging in /opt/anaconda3/envs/repo13/lib/python3.9/site-packages (from bleach->kaggle) (21.3)\n",
      "Collecting text-unidecode>=1.3\n",
      "  Downloading text_unidecode-1.3-py2.py3-none-any.whl (78 kB)\n",
      "\u001b[2K     \u001b[90m━━━━━━━━━━━━━━━━━━━━━━━━━━━━━━━━━━━━━━━━\u001b[0m \u001b[32m78.2/78.2 kB\u001b[0m \u001b[31m5.1 MB/s\u001b[0m eta \u001b[36m0:00:00\u001b[0m\n",
      "\u001b[?25hRequirement already satisfied: idna<4,>=2.5 in /opt/anaconda3/envs/repo13/lib/python3.9/site-packages (from requests->kaggle) (3.3)\n",
      "Requirement already satisfied: charset-normalizer<3,>=2 in /opt/anaconda3/envs/repo13/lib/python3.9/site-packages (from requests->kaggle) (2.0.4)\n",
      "Requirement already satisfied: pyparsing!=3.0.5,>=2.0.2 in /opt/anaconda3/envs/repo13/lib/python3.9/site-packages (from packaging->bleach->kaggle) (3.0.9)\n",
      "Building wheels for collected packages: kaggle\n",
      "  Building wheel for kaggle (setup.py) ... \u001b[?25ldone\n",
      "\u001b[?25h  Created wheel for kaggle: filename=kaggle-1.5.16-py3-none-any.whl size=110686 sha256=4568e047df97329fe39572817d8aa2c1e5cd34a7a97020f4448eaa532678e91b\n",
      "  Stored in directory: /Users/em/Library/Caches/pip/wheels/d2/ed/a5/da3a0cfb13373d1ace41cafa4f2467d858c55c52473ba72799\n",
      "Successfully built kaggle\n",
      "Installing collected packages: text-unidecode, python-slugify, kaggle\n",
      "Successfully installed kaggle-1.5.16 python-slugify-8.0.1 text-unidecode-1.3\n",
      "Note: you may need to restart the kernel to use updated packages.\n"
     ]
    }
   ],
   "source": [
    "pip install kaggle"
   ]
  },
  {
   "cell_type": "code",
   "execution_count": null,
   "metadata": {},
   "outputs": [],
   "source": [
    "import kaggle\n",
    "\n",
    "# Initialize the Kaggle API client\n",
    "kaggle.api.authenticate(api_key='your_api_key', username='your_kaggle_username')\n",
    "\n",
    "# Download a dataset using the dataset's unique URL slug\n",
    "kaggle.api.dataset_download_files('dataset-name', path='./', unzip=True)\n",
    "\n",
    "kaggle kernels pull psycon/fruit-image-classification\n",
    "Ensure kaggle.json is in the location ~/.kaggle/kaggle.json to use the API.\n",
    "/Users/em/Desktop/kaggle"
   ]
  },
  {
   "cell_type": "code",
   "execution_count": 7,
   "metadata": {},
   "outputs": [],
   "source": [
    "mkdir ='Users/em/Desktop/kaggle'"
   ]
  },
  {
   "cell_type": "code",
   "execution_count": null,
   "metadata": {},
   "outputs": [],
   "source": []
  }
 ],
 "metadata": {
  "kernelspec": {
   "display_name": "repo13",
   "language": "python",
   "name": "python3"
  },
  "language_info": {
   "codemirror_mode": {
    "name": "ipython",
    "version": 3
   },
   "file_extension": ".py",
   "mimetype": "text/x-python",
   "name": "python",
   "nbconvert_exporter": "python",
   "pygments_lexer": "ipython3",
   "version": "3.9.13"
  }
 },
 "nbformat": 4,
 "nbformat_minor": 2
}
